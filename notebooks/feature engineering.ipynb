{
 "cells": [
  {
   "cell_type": "code",
   "execution_count": 1,
   "id": "18ce112b",
   "metadata": {},
   "outputs": [],
   "source": [
    "import numpy as np\n",
    "import pandas as pd\n",
    "import matplotlib.pyplot as plt\n",
    "from scipy.stats import chi2_contingency, f_oneway\n",
    "from statsmodels.stats.outliers_influence import variance_inflation_factor"
   ]
  },
  {
   "cell_type": "code",
   "execution_count": 2,
   "id": "11306bf7",
   "metadata": {},
   "outputs": [],
   "source": [
    "# Load the dataset\n",
    "a1 = pd.read_excel(\"D:\\DS_ML\\My Projects\\Credit Risk Default Prediction\\My Solution\\CreditDefaultData\\case_study1.xlsx\")\n",
    "a2 = pd.read_excel(\"D:\\DS_ML\\My Projects\\Credit Risk Default Prediction\\My Solution\\CreditDefaultData\\case_study2.xlsx\")"
   ]
  },
  {
   "cell_type": "code",
   "execution_count": 3,
   "id": "96e6de1c",
   "metadata": {},
   "outputs": [],
   "source": [
    "df1 = a1.copy()\n",
    "df2 = a2.copy()"
   ]
  },
  {
   "cell_type": "code",
   "execution_count": 4,
   "id": "4502c576",
   "metadata": {},
   "outputs": [],
   "source": [
    "# Remove nulls\n",
    "df1 = df1.loc[df1['Age_Oldest_TL'] != -99999]\n",
    "\n",
    "columns_to_be_removed = []\n",
    "\n",
    "for i in df2.columns:\n",
    "    if df2.loc[df2[i] == -99999].shape[0] > 10000:\n",
    "        columns_to_be_removed .append(i)\n",
    "\n",
    "df2 = df2.drop(columns_to_be_removed, axis=1)\n",
    "\n",
    "\n",
    "for i in df2.columns:\n",
    "    df2 = df2.loc[ df2[i] != -99999 ]"
   ]
  },
  {
   "cell_type": "code",
   "execution_count": 5,
   "id": "7187e0a3",
   "metadata": {},
   "outputs": [],
   "source": [
    "df = pd.merge(df1, df2, on='PROSPECTID', how='inner')"
   ]
  },
  {
   "cell_type": "code",
   "execution_count": 6,
   "id": "2e7bb274",
   "metadata": {},
   "outputs": [
    {
     "data": {
      "text/plain": [
       "(42064, 79)"
      ]
     },
     "execution_count": 6,
     "metadata": {},
     "output_type": "execute_result"
    }
   ],
   "source": [
    "df.shape"
   ]
  },
  {
   "cell_type": "code",
   "execution_count": 7,
   "id": "13296fbe",
   "metadata": {},
   "outputs": [
    {
     "name": "stdout",
     "output_type": "stream",
     "text": [
      "<class 'pandas.core.frame.DataFrame'>\n",
      "RangeIndex: 42064 entries, 0 to 42063\n",
      "Data columns (total 79 columns):\n",
      " #   Column                      Non-Null Count  Dtype  \n",
      "---  ------                      --------------  -----  \n",
      " 0   PROSPECTID                  42064 non-null  int64  \n",
      " 1   Total_TL                    42064 non-null  int64  \n",
      " 2   Tot_Closed_TL               42064 non-null  int64  \n",
      " 3   Tot_Active_TL               42064 non-null  int64  \n",
      " 4   Total_TL_opened_L6M         42064 non-null  int64  \n",
      " 5   Tot_TL_closed_L6M           42064 non-null  int64  \n",
      " 6   pct_tl_open_L6M             42064 non-null  float64\n",
      " 7   pct_tl_closed_L6M           42064 non-null  float64\n",
      " 8   pct_active_tl               42064 non-null  float64\n",
      " 9   pct_closed_tl               42064 non-null  float64\n",
      " 10  Total_TL_opened_L12M        42064 non-null  int64  \n",
      " 11  Tot_TL_closed_L12M          42064 non-null  int64  \n",
      " 12  pct_tl_open_L12M            42064 non-null  float64\n",
      " 13  pct_tl_closed_L12M          42064 non-null  float64\n",
      " 14  Tot_Missed_Pmnt             42064 non-null  int64  \n",
      " 15  Auto_TL                     42064 non-null  int64  \n",
      " 16  CC_TL                       42064 non-null  int64  \n",
      " 17  Consumer_TL                 42064 non-null  int64  \n",
      " 18  Gold_TL                     42064 non-null  int64  \n",
      " 19  Home_TL                     42064 non-null  int64  \n",
      " 20  PL_TL                       42064 non-null  int64  \n",
      " 21  Secured_TL                  42064 non-null  int64  \n",
      " 22  Unsecured_TL                42064 non-null  int64  \n",
      " 23  Other_TL                    42064 non-null  int64  \n",
      " 24  Age_Oldest_TL               42064 non-null  int64  \n",
      " 25  Age_Newest_TL               42064 non-null  int64  \n",
      " 26  time_since_recent_payment   42064 non-null  int64  \n",
      " 27  num_times_delinquent        42064 non-null  int64  \n",
      " 28  max_recent_level_of_deliq   42064 non-null  int64  \n",
      " 29  num_deliq_6mts              42064 non-null  int64  \n",
      " 30  num_deliq_12mts             42064 non-null  int64  \n",
      " 31  num_deliq_6_12mts           42064 non-null  int64  \n",
      " 32  num_times_30p_dpd           42064 non-null  int64  \n",
      " 33  num_times_60p_dpd           42064 non-null  int64  \n",
      " 34  num_std                     42064 non-null  int64  \n",
      " 35  num_std_6mts                42064 non-null  int64  \n",
      " 36  num_std_12mts               42064 non-null  int64  \n",
      " 37  num_sub                     42064 non-null  int64  \n",
      " 38  num_sub_6mts                42064 non-null  int64  \n",
      " 39  num_sub_12mts               42064 non-null  int64  \n",
      " 40  num_dbt                     42064 non-null  int64  \n",
      " 41  num_dbt_6mts                42064 non-null  int64  \n",
      " 42  num_dbt_12mts               42064 non-null  int64  \n",
      " 43  num_lss                     42064 non-null  int64  \n",
      " 44  num_lss_6mts                42064 non-null  int64  \n",
      " 45  num_lss_12mts               42064 non-null  int64  \n",
      " 46  recent_level_of_deliq       42064 non-null  int64  \n",
      " 47  tot_enq                     42064 non-null  int64  \n",
      " 48  CC_enq                      42064 non-null  int64  \n",
      " 49  CC_enq_L6m                  42064 non-null  int64  \n",
      " 50  CC_enq_L12m                 42064 non-null  int64  \n",
      " 51  PL_enq                      42064 non-null  int64  \n",
      " 52  PL_enq_L6m                  42064 non-null  int64  \n",
      " 53  PL_enq_L12m                 42064 non-null  int64  \n",
      " 54  time_since_recent_enq       42064 non-null  int64  \n",
      " 55  enq_L12m                    42064 non-null  int64  \n",
      " 56  enq_L6m                     42064 non-null  int64  \n",
      " 57  enq_L3m                     42064 non-null  int64  \n",
      " 58  MARITALSTATUS               42064 non-null  object \n",
      " 59  EDUCATION                   42064 non-null  object \n",
      " 60  AGE                         42064 non-null  int64  \n",
      " 61  GENDER                      42064 non-null  object \n",
      " 62  NETMONTHLYINCOME            42064 non-null  int64  \n",
      " 63  Time_With_Curr_Empr         42064 non-null  int64  \n",
      " 64  pct_of_active_TLs_ever      42064 non-null  float64\n",
      " 65  pct_opened_TLs_L6m_of_L12m  42064 non-null  float64\n",
      " 66  pct_currentBal_all_TL       42064 non-null  float64\n",
      " 67  CC_Flag                     42064 non-null  int64  \n",
      " 68  PL_Flag                     42064 non-null  int64  \n",
      " 69  pct_PL_enq_L6m_of_L12m      42064 non-null  float64\n",
      " 70  pct_CC_enq_L6m_of_L12m      42064 non-null  float64\n",
      " 71  pct_PL_enq_L6m_of_ever      42064 non-null  float64\n",
      " 72  pct_CC_enq_L6m_of_ever      42064 non-null  float64\n",
      " 73  HL_Flag                     42064 non-null  int64  \n",
      " 74  GL_Flag                     42064 non-null  int64  \n",
      " 75  last_prod_enq2              42064 non-null  object \n",
      " 76  first_prod_enq2             42064 non-null  object \n",
      " 77  Credit_Score                42064 non-null  int64  \n",
      " 78  Approved_Flag               42064 non-null  object \n",
      "dtypes: float64(13), int64(60), object(6)\n",
      "memory usage: 25.4+ MB\n"
     ]
    }
   ],
   "source": [
    "df.info()"
   ]
  },
  {
   "cell_type": "code",
   "execution_count": 6,
   "id": "e8cbf2c3",
   "metadata": {},
   "outputs": [],
   "source": [
    "df.to_csv(\"D:\\DS_ML\\My Projects\\Credit Risk Default Prediction\\My Solution\\CreditDefaultData\\merged_data.csv\", index=False)"
   ]
  },
  {
   "cell_type": "code",
   "execution_count": null,
   "id": "328e72c8",
   "metadata": {},
   "outputs": [
    {
     "data": {
      "text/html": [
       "<div>\n",
       "<style scoped>\n",
       "    .dataframe tbody tr th:only-of-type {\n",
       "        vertical-align: middle;\n",
       "    }\n",
       "\n",
       "    .dataframe tbody tr th {\n",
       "        vertical-align: top;\n",
       "    }\n",
       "\n",
       "    .dataframe thead th {\n",
       "        text-align: right;\n",
       "    }\n",
       "</style>\n",
       "<table border=\"1\" class=\"dataframe\">\n",
       "  <thead>\n",
       "    <tr style=\"text-align: right;\">\n",
       "      <th></th>\n",
       "      <th>PROSPECTID</th>\n",
       "      <th>Total_TL</th>\n",
       "      <th>Tot_Closed_TL</th>\n",
       "      <th>Tot_Active_TL</th>\n",
       "      <th>Total_TL_opened_L6M</th>\n",
       "      <th>Tot_TL_closed_L6M</th>\n",
       "      <th>pct_tl_open_L6M</th>\n",
       "      <th>pct_tl_closed_L6M</th>\n",
       "      <th>pct_active_tl</th>\n",
       "      <th>pct_closed_tl</th>\n",
       "      <th>...</th>\n",
       "      <th>pct_PL_enq_L6m_of_L12m</th>\n",
       "      <th>pct_CC_enq_L6m_of_L12m</th>\n",
       "      <th>pct_PL_enq_L6m_of_ever</th>\n",
       "      <th>pct_CC_enq_L6m_of_ever</th>\n",
       "      <th>HL_Flag</th>\n",
       "      <th>GL_Flag</th>\n",
       "      <th>last_prod_enq2</th>\n",
       "      <th>first_prod_enq2</th>\n",
       "      <th>Credit_Score</th>\n",
       "      <th>Approved_Flag</th>\n",
       "    </tr>\n",
       "  </thead>\n",
       "  <tbody>\n",
       "    <tr>\n",
       "      <th>0</th>\n",
       "      <td>1</td>\n",
       "      <td>5</td>\n",
       "      <td>4</td>\n",
       "      <td>1</td>\n",
       "      <td>0</td>\n",
       "      <td>0</td>\n",
       "      <td>0.000</td>\n",
       "      <td>0.0</td>\n",
       "      <td>0.200</td>\n",
       "      <td>0.800</td>\n",
       "      <td>...</td>\n",
       "      <td>0.0</td>\n",
       "      <td>0.0</td>\n",
       "      <td>0.000</td>\n",
       "      <td>0.0</td>\n",
       "      <td>1</td>\n",
       "      <td>0</td>\n",
       "      <td>PL</td>\n",
       "      <td>PL</td>\n",
       "      <td>696</td>\n",
       "      <td>P2</td>\n",
       "    </tr>\n",
       "    <tr>\n",
       "      <th>1</th>\n",
       "      <td>2</td>\n",
       "      <td>1</td>\n",
       "      <td>0</td>\n",
       "      <td>1</td>\n",
       "      <td>0</td>\n",
       "      <td>0</td>\n",
       "      <td>0.000</td>\n",
       "      <td>0.0</td>\n",
       "      <td>1.000</td>\n",
       "      <td>0.000</td>\n",
       "      <td>...</td>\n",
       "      <td>0.0</td>\n",
       "      <td>0.0</td>\n",
       "      <td>0.000</td>\n",
       "      <td>0.0</td>\n",
       "      <td>0</td>\n",
       "      <td>0</td>\n",
       "      <td>ConsumerLoan</td>\n",
       "      <td>ConsumerLoan</td>\n",
       "      <td>685</td>\n",
       "      <td>P2</td>\n",
       "    </tr>\n",
       "    <tr>\n",
       "      <th>2</th>\n",
       "      <td>3</td>\n",
       "      <td>8</td>\n",
       "      <td>0</td>\n",
       "      <td>8</td>\n",
       "      <td>1</td>\n",
       "      <td>0</td>\n",
       "      <td>0.125</td>\n",
       "      <td>0.0</td>\n",
       "      <td>1.000</td>\n",
       "      <td>0.000</td>\n",
       "      <td>...</td>\n",
       "      <td>0.0</td>\n",
       "      <td>0.0</td>\n",
       "      <td>0.000</td>\n",
       "      <td>0.0</td>\n",
       "      <td>1</td>\n",
       "      <td>0</td>\n",
       "      <td>ConsumerLoan</td>\n",
       "      <td>others</td>\n",
       "      <td>693</td>\n",
       "      <td>P2</td>\n",
       "    </tr>\n",
       "    <tr>\n",
       "      <th>3</th>\n",
       "      <td>5</td>\n",
       "      <td>3</td>\n",
       "      <td>2</td>\n",
       "      <td>1</td>\n",
       "      <td>0</td>\n",
       "      <td>0</td>\n",
       "      <td>0.000</td>\n",
       "      <td>0.0</td>\n",
       "      <td>0.333</td>\n",
       "      <td>0.667</td>\n",
       "      <td>...</td>\n",
       "      <td>0.0</td>\n",
       "      <td>0.0</td>\n",
       "      <td>0.000</td>\n",
       "      <td>0.0</td>\n",
       "      <td>0</td>\n",
       "      <td>0</td>\n",
       "      <td>AL</td>\n",
       "      <td>AL</td>\n",
       "      <td>753</td>\n",
       "      <td>P1</td>\n",
       "    </tr>\n",
       "    <tr>\n",
       "      <th>4</th>\n",
       "      <td>6</td>\n",
       "      <td>6</td>\n",
       "      <td>5</td>\n",
       "      <td>1</td>\n",
       "      <td>0</td>\n",
       "      <td>0</td>\n",
       "      <td>0.000</td>\n",
       "      <td>0.0</td>\n",
       "      <td>0.167</td>\n",
       "      <td>0.833</td>\n",
       "      <td>...</td>\n",
       "      <td>1.0</td>\n",
       "      <td>0.0</td>\n",
       "      <td>0.429</td>\n",
       "      <td>0.0</td>\n",
       "      <td>1</td>\n",
       "      <td>0</td>\n",
       "      <td>ConsumerLoan</td>\n",
       "      <td>PL</td>\n",
       "      <td>668</td>\n",
       "      <td>P3</td>\n",
       "    </tr>\n",
       "  </tbody>\n",
       "</table>\n",
       "<p>5 rows × 79 columns</p>\n",
       "</div>"
      ],
      "text/plain": [
       "   PROSPECTID  Total_TL  Tot_Closed_TL  Tot_Active_TL  Total_TL_opened_L6M  \\\n",
       "0           1         5              4              1                    0   \n",
       "1           2         1              0              1                    0   \n",
       "2           3         8              0              8                    1   \n",
       "3           5         3              2              1                    0   \n",
       "4           6         6              5              1                    0   \n",
       "\n",
       "   Tot_TL_closed_L6M  pct_tl_open_L6M  pct_tl_closed_L6M  pct_active_tl  \\\n",
       "0                  0            0.000                0.0          0.200   \n",
       "1                  0            0.000                0.0          1.000   \n",
       "2                  0            0.125                0.0          1.000   \n",
       "3                  0            0.000                0.0          0.333   \n",
       "4                  0            0.000                0.0          0.167   \n",
       "\n",
       "   pct_closed_tl  ...  pct_PL_enq_L6m_of_L12m  pct_CC_enq_L6m_of_L12m  \\\n",
       "0          0.800  ...                     0.0                     0.0   \n",
       "1          0.000  ...                     0.0                     0.0   \n",
       "2          0.000  ...                     0.0                     0.0   \n",
       "3          0.667  ...                     0.0                     0.0   \n",
       "4          0.833  ...                     1.0                     0.0   \n",
       "\n",
       "   pct_PL_enq_L6m_of_ever  pct_CC_enq_L6m_of_ever  HL_Flag  GL_Flag  \\\n",
       "0                   0.000                     0.0        1        0   \n",
       "1                   0.000                     0.0        0        0   \n",
       "2                   0.000                     0.0        1        0   \n",
       "3                   0.000                     0.0        0        0   \n",
       "4                   0.429                     0.0        1        0   \n",
       "\n",
       "   last_prod_enq2  first_prod_enq2  Credit_Score  Approved_Flag  \n",
       "0              PL               PL           696             P2  \n",
       "1    ConsumerLoan     ConsumerLoan           685             P2  \n",
       "2    ConsumerLoan           others           693             P2  \n",
       "3              AL               AL           753             P1  \n",
       "4    ConsumerLoan               PL           668             P3  \n",
       "\n",
       "[5 rows x 79 columns]"
      ]
     },
     "execution_count": 15,
     "metadata": {},
     "output_type": "execute_result"
    }
   ],
   "source": [
    "df = pd.read_csv(\"D:\\DS_ML\\My Projects\\Credit Risk Default Prediction\\My Solution\\CreditDefaultData\\merged_data.csv\")\n",
    "df.head()"
   ]
  },
  {
   "cell_type": "code",
   "execution_count": null,
   "id": "f2501953",
   "metadata": {},
   "outputs": [
    {
     "name": "stdout",
     "output_type": "stream",
     "text": [
      "<class 'pandas.core.frame.DataFrame'>\n",
      "RangeIndex: 42064 entries, 0 to 42063\n",
      "Data columns (total 79 columns):\n",
      " #   Column                      Non-Null Count  Dtype  \n",
      "---  ------                      --------------  -----  \n",
      " 0   PROSPECTID                  42064 non-null  int64  \n",
      " 1   Total_TL                    42064 non-null  int64  \n",
      " 2   Tot_Closed_TL               42064 non-null  int64  \n",
      " 3   Tot_Active_TL               42064 non-null  int64  \n",
      " 4   Total_TL_opened_L6M         42064 non-null  int64  \n",
      " 5   Tot_TL_closed_L6M           42064 non-null  int64  \n",
      " 6   pct_tl_open_L6M             42064 non-null  float64\n",
      " 7   pct_tl_closed_L6M           42064 non-null  float64\n",
      " 8   pct_active_tl               42064 non-null  float64\n",
      " 9   pct_closed_tl               42064 non-null  float64\n",
      " 10  Total_TL_opened_L12M        42064 non-null  int64  \n",
      " 11  Tot_TL_closed_L12M          42064 non-null  int64  \n",
      " 12  pct_tl_open_L12M            42064 non-null  float64\n",
      " 13  pct_tl_closed_L12M          42064 non-null  float64\n",
      " 14  Tot_Missed_Pmnt             42064 non-null  int64  \n",
      " 15  Auto_TL                     42064 non-null  int64  \n",
      " 16  CC_TL                       42064 non-null  int64  \n",
      " 17  Consumer_TL                 42064 non-null  int64  \n",
      " 18  Gold_TL                     42064 non-null  int64  \n",
      " 19  Home_TL                     42064 non-null  int64  \n",
      " 20  PL_TL                       42064 non-null  int64  \n",
      " 21  Secured_TL                  42064 non-null  int64  \n",
      " 22  Unsecured_TL                42064 non-null  int64  \n",
      " 23  Other_TL                    42064 non-null  int64  \n",
      " 24  Age_Oldest_TL               42064 non-null  int64  \n",
      " 25  Age_Newest_TL               42064 non-null  int64  \n",
      " 26  time_since_recent_payment   42064 non-null  int64  \n",
      " 27  num_times_delinquent        42064 non-null  int64  \n",
      " 28  max_recent_level_of_deliq   42064 non-null  int64  \n",
      " 29  num_deliq_6mts              42064 non-null  int64  \n",
      " 30  num_deliq_12mts             42064 non-null  int64  \n",
      " 31  num_deliq_6_12mts           42064 non-null  int64  \n",
      " 32  num_times_30p_dpd           42064 non-null  int64  \n",
      " 33  num_times_60p_dpd           42064 non-null  int64  \n",
      " 34  num_std                     42064 non-null  int64  \n",
      " 35  num_std_6mts                42064 non-null  int64  \n",
      " 36  num_std_12mts               42064 non-null  int64  \n",
      " 37  num_sub                     42064 non-null  int64  \n",
      " 38  num_sub_6mts                42064 non-null  int64  \n",
      " 39  num_sub_12mts               42064 non-null  int64  \n",
      " 40  num_dbt                     42064 non-null  int64  \n",
      " 41  num_dbt_6mts                42064 non-null  int64  \n",
      " 42  num_dbt_12mts               42064 non-null  int64  \n",
      " 43  num_lss                     42064 non-null  int64  \n",
      " 44  num_lss_6mts                42064 non-null  int64  \n",
      " 45  num_lss_12mts               42064 non-null  int64  \n",
      " 46  recent_level_of_deliq       42064 non-null  int64  \n",
      " 47  tot_enq                     42064 non-null  int64  \n",
      " 48  CC_enq                      42064 non-null  int64  \n",
      " 49  CC_enq_L6m                  42064 non-null  int64  \n",
      " 50  CC_enq_L12m                 42064 non-null  int64  \n",
      " 51  PL_enq                      42064 non-null  int64  \n",
      " 52  PL_enq_L6m                  42064 non-null  int64  \n",
      " 53  PL_enq_L12m                 42064 non-null  int64  \n",
      " 54  time_since_recent_enq       42064 non-null  int64  \n",
      " 55  enq_L12m                    42064 non-null  int64  \n",
      " 56  enq_L6m                     42064 non-null  int64  \n",
      " 57  enq_L3m                     42064 non-null  int64  \n",
      " 58  MARITALSTATUS               42064 non-null  object \n",
      " 59  EDUCATION                   42064 non-null  object \n",
      " 60  AGE                         42064 non-null  int64  \n",
      " 61  GENDER                      42064 non-null  object \n",
      " 62  NETMONTHLYINCOME            42064 non-null  int64  \n",
      " 63  Time_With_Curr_Empr         42064 non-null  int64  \n",
      " 64  pct_of_active_TLs_ever      42064 non-null  float64\n",
      " 65  pct_opened_TLs_L6m_of_L12m  42064 non-null  float64\n",
      " 66  pct_currentBal_all_TL       42064 non-null  float64\n",
      " 67  CC_Flag                     42064 non-null  int64  \n",
      " 68  PL_Flag                     42064 non-null  int64  \n",
      " 69  pct_PL_enq_L6m_of_L12m      42064 non-null  float64\n",
      " 70  pct_CC_enq_L6m_of_L12m      42064 non-null  float64\n",
      " 71  pct_PL_enq_L6m_of_ever      42064 non-null  float64\n",
      " 72  pct_CC_enq_L6m_of_ever      42064 non-null  float64\n",
      " 73  HL_Flag                     42064 non-null  int64  \n",
      " 74  GL_Flag                     42064 non-null  int64  \n",
      " 75  last_prod_enq2              42064 non-null  object \n",
      " 76  first_prod_enq2             42064 non-null  object \n",
      " 77  Credit_Score                42064 non-null  int64  \n",
      " 78  Approved_Flag               42064 non-null  object \n",
      "dtypes: float64(13), int64(60), object(6)\n",
      "memory usage: 25.4+ MB\n"
     ]
    }
   ],
   "source": [
    "df.info()"
   ]
  },
  {
   "cell_type": "code",
   "execution_count": 7,
   "id": "ec1adf22",
   "metadata": {},
   "outputs": [],
   "source": [
    "# Categorical Features\n",
    "categorical_feat = [col for col in df.columns if df[col].dtype == 'O' and col not in ['PROSPECTID']]\n",
    "\n",
    "# Numerical Features\n",
    "numerical_feat = [col for col in df.columns if df[col].dtype  != 'object' and col not in ['PROSPECTID']]"
   ]
  },
  {
   "cell_type": "code",
   "execution_count": null,
   "id": "cea811f8",
   "metadata": {},
   "outputs": [
    {
     "data": {
      "text/plain": [
       "['MARITALSTATUS',\n",
       " 'EDUCATION',\n",
       " 'GENDER',\n",
       " 'last_prod_enq2',\n",
       " 'first_prod_enq2',\n",
       " 'Approved_Flag']"
      ]
     },
     "execution_count": 24,
     "metadata": {},
     "output_type": "execute_result"
    }
   ],
   "source": [
    "categorical_feat"
   ]
  },
  {
   "cell_type": "code",
   "execution_count": 8,
   "id": "4471ebd9",
   "metadata": {},
   "outputs": [
    {
     "name": "stdout",
     "output_type": "stream",
     "text": [
      "MARITALSTATUS --- 3.578180861038862e-233\n",
      "EDUCATION --- 2.6942265249737532e-30\n",
      "GENDER --- 1.907936100186563e-05\n",
      "last_prod_enq2 --- 0.0\n",
      "first_prod_enq2 --- 7.84997610555419e-287\n"
     ]
    }
   ],
   "source": [
    "# Chi-square test\n",
    "for i in ['MARITALSTATUS', 'EDUCATION', 'GENDER', 'last_prod_enq2', 'first_prod_enq2']:\n",
    "    chi2, pval, _, _ = chi2_contingency(pd.crosstab(df[i], df['Approved_Flag']))\n",
    "    print(i, '---', pval)\n"
   ]
  },
  {
   "cell_type": "code",
   "execution_count": 9,
   "id": "f568f5fa",
   "metadata": {},
   "outputs": [
    {
     "name": "stderr",
     "output_type": "stream",
     "text": [
      "d:\\DS_ML\\ML_DL_AI\\venv\\lib\\site-packages\\statsmodels\\stats\\outliers_influence.py:197: RuntimeWarning: divide by zero encountered in scalar divide\n",
      "  vif = 1. / (1. - r_squared_i)\n",
      "d:\\DS_ML\\ML_DL_AI\\venv\\lib\\site-packages\\statsmodels\\stats\\outliers_influence.py:197: RuntimeWarning: divide by zero encountered in scalar divide\n",
      "  vif = 1. / (1. - r_squared_i)\n",
      "d:\\DS_ML\\ML_DL_AI\\venv\\lib\\site-packages\\statsmodels\\stats\\outliers_influence.py:197: RuntimeWarning: divide by zero encountered in scalar divide\n",
      "  vif = 1. / (1. - r_squared_i)\n",
      "d:\\DS_ML\\ML_DL_AI\\venv\\lib\\site-packages\\statsmodels\\stats\\outliers_influence.py:197: RuntimeWarning: divide by zero encountered in scalar divide\n",
      "  vif = 1. / (1. - r_squared_i)\n",
      "d:\\DS_ML\\ML_DL_AI\\venv\\lib\\site-packages\\statsmodels\\stats\\outliers_influence.py:197: RuntimeWarning: divide by zero encountered in scalar divide\n",
      "  vif = 1. / (1. - r_squared_i)\n"
     ]
    }
   ],
   "source": [
    "# Multicolinearity Checking\n",
    "vif_data = df[numerical_feat]\n",
    "total_no_of_numfeat = vif_data.shape[1]\n",
    "columns_to_be_kept = []\n",
    "column_index = 0\n",
    "\n",
    "for i in range(total_no_of_numfeat):\n",
    "    vif_value = variance_inflation_factor(vif_data, column_index)\n",
    "    # print (column_index,'---',vif_value)\n",
    "\n",
    "    if vif_value <= 6:\n",
    "        columns_to_be_kept.append(numerical_feat[i])\n",
    "        column_index += 1\n",
    "    \n",
    "    else:\n",
    "        vif_data = vif_data.drop(numerical_feat[i], axis=1)\n",
    "    "
   ]
  },
  {
   "cell_type": "code",
   "execution_count": null,
   "id": "5dfda022",
   "metadata": {},
   "outputs": [
    {
     "data": {
      "text/plain": [
       "39"
      ]
     },
     "execution_count": 23,
     "metadata": {},
     "output_type": "execute_result"
    }
   ],
   "source": [
    "len(columns_to_be_kept)"
   ]
  },
  {
   "cell_type": "code",
   "execution_count": null,
   "id": "3075719b",
   "metadata": {},
   "outputs": [],
   "source": [
    "# check Anova for columns_to_be_kept \n",
    "columns_to_be_kept_numerical = []\n",
    "\n",
    "for i in columns_to_be_kept:\n",
    "    a = list(df[i])  \n",
    "    b = list(df['Approved_Flag'])  \n",
    "    \n",
    "    group_P1 = [value for value, group in zip(a, b) if group == 'P1']\n",
    "    group_P2 = [value for value, group in zip(a, b) if group == 'P2']\n",
    "    group_P3 = [value for value, group in zip(a, b) if group == 'P3']\n",
    "    group_P4 = [value for value, group in zip(a, b) if group == 'P4']\n",
    "\n",
    "\n",
    "    f_statistic, p_value = f_oneway(group_P1, group_P2, group_P3, group_P4)\n",
    "\n",
    "    if p_value <= 0.05:\n",
    "        columns_to_be_kept_numerical.append(i)"
   ]
  },
  {
   "cell_type": "code",
   "execution_count": null,
   "id": "cebe0eb2",
   "metadata": {},
   "outputs": [],
   "source": [
    "# listing all the final features\n",
    "features = columns_to_be_kept_numerical + ['MARITALSTATUS', 'EDUCATION', 'GENDER', 'last_prod_enq2', 'first_prod_enq2']\n",
    "df = df[features + ['Approved_Flag']]"
   ]
  },
  {
   "cell_type": "code",
   "execution_count": null,
   "id": "14ed93de",
   "metadata": {},
   "outputs": [
    {
     "data": {
      "text/plain": [
       "(42064, 43)"
      ]
     },
     "execution_count": 28,
     "metadata": {},
     "output_type": "execute_result"
    }
   ],
   "source": [
    "df.shape"
   ]
  },
  {
   "cell_type": "code",
   "execution_count": null,
   "id": "eff2358b",
   "metadata": {},
   "outputs": [
    {
     "name": "stdout",
     "output_type": "stream",
     "text": [
      "------------------------------\n",
      "MARITALSTATUS\n",
      "Married    30886\n",
      "Single     11178\n",
      "Name: count, dtype: int64\n",
      "------------------------------\n",
      "EDUCATION\n",
      "GRADUATE          14140\n",
      "12TH              11703\n",
      "SSC                7241\n",
      "UNDER GRADUATE     4572\n",
      "OTHERS             2291\n",
      "POST-GRADUATE      1898\n",
      "PROFESSIONAL        219\n",
      "Name: count, dtype: int64\n",
      "------------------------------\n",
      "GENDER\n",
      "M    37345\n",
      "F     4719\n",
      "Name: count, dtype: int64\n",
      "------------------------------\n",
      "last_prod_enq2\n",
      "ConsumerLoan    16480\n",
      "others          13653\n",
      "PL               7553\n",
      "CC               2195\n",
      "AL               1353\n",
      "HL                830\n",
      "Name: count, dtype: int64\n",
      "------------------------------\n",
      "first_prod_enq2\n",
      "others          20640\n",
      "ConsumerLoan    11075\n",
      "PL               4431\n",
      "AL               2641\n",
      "CC               1988\n",
      "HL               1289\n",
      "Name: count, dtype: int64\n"
     ]
    }
   ],
   "source": [
    "for col in ['MARITALSTATUS', 'EDUCATION', 'GENDER' , 'last_prod_enq2' ,'first_prod_enq2']:\n",
    "    print(\"------------------------------\")\n",
    "    print(df[col].value_counts())"
   ]
  },
  {
   "cell_type": "code",
   "execution_count": null,
   "id": "3f60a5eb",
   "metadata": {},
   "outputs": [],
   "source": [
    "# Ordinal feature -- EDUCATION\n",
    "# SSC            : 1\n",
    "# 12TH           : 2\n",
    "# GRADUATE       : 3\n",
    "# UNDER GRADUATE : 3\n",
    "# POST-GRADUATE  : 4\n",
    "# OTHERS         : 1\n",
    "# PROFESSIONAL   : 3"
   ]
  },
  {
   "cell_type": "code",
   "execution_count": null,
   "id": "aab53ec8",
   "metadata": {},
   "outputs": [],
   "source": [
    "df.loc[df['EDUCATION'] == 'SSC',['EDUCATION']]              = 1\n",
    "df.loc[df['EDUCATION'] == '12TH',['EDUCATION']]             = 2\n",
    "df.loc[df['EDUCATION'] == 'GRADUATE',['EDUCATION']]         = 3\n",
    "df.loc[df['EDUCATION'] == 'UNDER GRADUATE',['EDUCATION']]   = 3\n",
    "df.loc[df['EDUCATION'] == 'POST-GRADUATE',['EDUCATION']]    = 4\n",
    "df.loc[df['EDUCATION'] == 'OTHERS',['EDUCATION']]           = 1\n",
    "df.loc[df['EDUCATION'] == 'PROFESSIONAL',['EDUCATION']]     = 3"
   ]
  },
  {
   "cell_type": "code",
   "execution_count": null,
   "id": "90cc0e79",
   "metadata": {},
   "outputs": [],
   "source": [
    "df['EDUCATION'] = df['EDUCATION'].astype(int)"
   ]
  },
  {
   "cell_type": "code",
   "execution_count": null,
   "id": "48450bdc",
   "metadata": {},
   "outputs": [],
   "source": [
    "df_encoded = pd.get_dummies(df, columns=['MARITALSTATUS','GENDER', 'last_prod_enq2' ,'first_prod_enq2'])"
   ]
  },
  {
   "cell_type": "code",
   "execution_count": null,
   "id": "0fc99bba",
   "metadata": {},
   "outputs": [],
   "source": []
  }
 ],
 "metadata": {
  "kernelspec": {
   "display_name": "venv",
   "language": "python",
   "name": "python3"
  },
  "language_info": {
   "codemirror_mode": {
    "name": "ipython",
    "version": 3
   },
   "file_extension": ".py",
   "mimetype": "text/x-python",
   "name": "python",
   "nbconvert_exporter": "python",
   "pygments_lexer": "ipython3",
   "version": "3.10.0"
  }
 },
 "nbformat": 4,
 "nbformat_minor": 5
}
